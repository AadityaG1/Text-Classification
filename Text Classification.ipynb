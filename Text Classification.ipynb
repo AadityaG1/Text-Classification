{
 "cells": [
  {
   "cell_type": "code",
   "execution_count": 1,
   "id": "cd9b81f8",
   "metadata": {},
   "outputs": [],
   "source": [
    "# Importing essential libraries\n",
    "import numpy as np\n",
    "import pandas as pd\n",
    "import sys\n",
    "\n",
    "if not sys.warnoptions:\n",
    "    import warnings\n",
    "    warnings.simplefilter(\"ignore\")"
   ]
  },
  {
   "cell_type": "code",
   "execution_count": 2,
   "id": "9373cf38",
   "metadata": {},
   "outputs": [],
   "source": [
    "# Loading the dataset\n",
    "df = pd.read_csv('Spam SMS Collection.txt', sep='\\t', names=['label', 'message'])"
   ]
  },
  {
   "cell_type": "code",
   "execution_count": 3,
   "id": "1a3758db",
   "metadata": {},
   "outputs": [
    {
     "data": {
      "text/html": [
       "<div>\n",
       "<style scoped>\n",
       "    .dataframe tbody tr th:only-of-type {\n",
       "        vertical-align: middle;\n",
       "    }\n",
       "\n",
       "    .dataframe tbody tr th {\n",
       "        vertical-align: top;\n",
       "    }\n",
       "\n",
       "    .dataframe thead th {\n",
       "        text-align: right;\n",
       "    }\n",
       "</style>\n",
       "<table border=\"1\" class=\"dataframe\">\n",
       "  <thead>\n",
       "    <tr style=\"text-align: right;\">\n",
       "      <th></th>\n",
       "      <th>label</th>\n",
       "      <th>message</th>\n",
       "    </tr>\n",
       "  </thead>\n",
       "  <tbody>\n",
       "    <tr>\n",
       "      <th>0</th>\n",
       "      <td>ham</td>\n",
       "      <td>Go until jurong point, crazy.. Available only ...</td>\n",
       "    </tr>\n",
       "    <tr>\n",
       "      <th>1</th>\n",
       "      <td>ham</td>\n",
       "      <td>Ok lar... Joking wif u oni...</td>\n",
       "    </tr>\n",
       "    <tr>\n",
       "      <th>2</th>\n",
       "      <td>spam</td>\n",
       "      <td>Free entry in 2 a wkly comp to win FA Cup fina...</td>\n",
       "    </tr>\n",
       "    <tr>\n",
       "      <th>3</th>\n",
       "      <td>ham</td>\n",
       "      <td>U dun say so early hor... U c already then say...</td>\n",
       "    </tr>\n",
       "    <tr>\n",
       "      <th>4</th>\n",
       "      <td>ham</td>\n",
       "      <td>Nah I don't think he goes to usf, he lives aro...</td>\n",
       "    </tr>\n",
       "  </tbody>\n",
       "</table>\n",
       "</div>"
      ],
      "text/plain": [
       "  label                                            message\n",
       "0   ham  Go until jurong point, crazy.. Available only ...\n",
       "1   ham                      Ok lar... Joking wif u oni...\n",
       "2  spam  Free entry in 2 a wkly comp to win FA Cup fina...\n",
       "3   ham  U dun say so early hor... U c already then say...\n",
       "4   ham  Nah I don't think he goes to usf, he lives aro..."
      ]
     },
     "execution_count": 3,
     "metadata": {},
     "output_type": "execute_result"
    }
   ],
   "source": [
    "df.head()"
   ]
  },
  {
   "cell_type": "code",
   "execution_count": 4,
   "id": "9e217b28",
   "metadata": {},
   "outputs": [
    {
     "data": {
      "text/plain": [
       "(5572, 2)"
      ]
     },
     "execution_count": 4,
     "metadata": {},
     "output_type": "execute_result"
    }
   ],
   "source": [
    "df.shape"
   ]
  },
  {
   "cell_type": "code",
   "execution_count": 5,
   "id": "ad941f6b",
   "metadata": {},
   "outputs": [
    {
     "name": "stdout",
     "output_type": "stream",
     "text": [
      "<class 'pandas.core.frame.DataFrame'>\n",
      "RangeIndex: 5572 entries, 0 to 5571\n",
      "Data columns (total 2 columns):\n",
      " #   Column   Non-Null Count  Dtype \n",
      "---  ------   --------------  ----- \n",
      " 0   label    5572 non-null   object\n",
      " 1   message  5572 non-null   object\n",
      "dtypes: object(2)\n",
      "memory usage: 87.2+ KB\n"
     ]
    }
   ],
   "source": [
    "df.info()"
   ]
  },
  {
   "cell_type": "code",
   "execution_count": 6,
   "id": "b8e3d31f",
   "metadata": {},
   "outputs": [
    {
     "data": {
      "text/html": [
       "<div>\n",
       "<style scoped>\n",
       "    .dataframe tbody tr th:only-of-type {\n",
       "        vertical-align: middle;\n",
       "    }\n",
       "\n",
       "    .dataframe tbody tr th {\n",
       "        vertical-align: top;\n",
       "    }\n",
       "\n",
       "    .dataframe thead th {\n",
       "        text-align: right;\n",
       "    }\n",
       "</style>\n",
       "<table border=\"1\" class=\"dataframe\">\n",
       "  <thead>\n",
       "    <tr style=\"text-align: right;\">\n",
       "      <th></th>\n",
       "      <th>label</th>\n",
       "      <th>message</th>\n",
       "    </tr>\n",
       "  </thead>\n",
       "  <tbody>\n",
       "    <tr>\n",
       "      <th>count</th>\n",
       "      <td>5572</td>\n",
       "      <td>5572</td>\n",
       "    </tr>\n",
       "    <tr>\n",
       "      <th>unique</th>\n",
       "      <td>2</td>\n",
       "      <td>5169</td>\n",
       "    </tr>\n",
       "    <tr>\n",
       "      <th>top</th>\n",
       "      <td>ham</td>\n",
       "      <td>Sorry, I'll call later</td>\n",
       "    </tr>\n",
       "    <tr>\n",
       "      <th>freq</th>\n",
       "      <td>4825</td>\n",
       "      <td>30</td>\n",
       "    </tr>\n",
       "  </tbody>\n",
       "</table>\n",
       "</div>"
      ],
      "text/plain": [
       "       label                 message\n",
       "count   5572                    5572\n",
       "unique     2                    5169\n",
       "top      ham  Sorry, I'll call later\n",
       "freq    4825                      30"
      ]
     },
     "execution_count": 6,
     "metadata": {},
     "output_type": "execute_result"
    }
   ],
   "source": [
    "df.describe()"
   ]
  },
  {
   "cell_type": "code",
   "execution_count": 7,
   "id": "d9559ba1",
   "metadata": {},
   "outputs": [],
   "source": [
    "df['label'] = df['label'].map({'ham': 0, 'spam': 1})"
   ]
  },
  {
   "cell_type": "code",
   "execution_count": 8,
   "id": "36221b45",
   "metadata": {},
   "outputs": [
    {
     "data": {
      "text/html": [
       "<div>\n",
       "<style scoped>\n",
       "    .dataframe tbody tr th:only-of-type {\n",
       "        vertical-align: middle;\n",
       "    }\n",
       "\n",
       "    .dataframe tbody tr th {\n",
       "        vertical-align: top;\n",
       "    }\n",
       "\n",
       "    .dataframe thead th {\n",
       "        text-align: right;\n",
       "    }\n",
       "</style>\n",
       "<table border=\"1\" class=\"dataframe\">\n",
       "  <thead>\n",
       "    <tr style=\"text-align: right;\">\n",
       "      <th></th>\n",
       "      <th>label</th>\n",
       "      <th>message</th>\n",
       "    </tr>\n",
       "  </thead>\n",
       "  <tbody>\n",
       "    <tr>\n",
       "      <th>0</th>\n",
       "      <td>0</td>\n",
       "      <td>Go until jurong point, crazy.. Available only ...</td>\n",
       "    </tr>\n",
       "    <tr>\n",
       "      <th>1</th>\n",
       "      <td>0</td>\n",
       "      <td>Ok lar... Joking wif u oni...</td>\n",
       "    </tr>\n",
       "    <tr>\n",
       "      <th>2</th>\n",
       "      <td>1</td>\n",
       "      <td>Free entry in 2 a wkly comp to win FA Cup fina...</td>\n",
       "    </tr>\n",
       "    <tr>\n",
       "      <th>3</th>\n",
       "      <td>0</td>\n",
       "      <td>U dun say so early hor... U c already then say...</td>\n",
       "    </tr>\n",
       "    <tr>\n",
       "      <th>4</th>\n",
       "      <td>0</td>\n",
       "      <td>Nah I don't think he goes to usf, he lives aro...</td>\n",
       "    </tr>\n",
       "    <tr>\n",
       "      <th>...</th>\n",
       "      <td>...</td>\n",
       "      <td>...</td>\n",
       "    </tr>\n",
       "    <tr>\n",
       "      <th>5567</th>\n",
       "      <td>1</td>\n",
       "      <td>This is the 2nd time we have tried 2 contact u...</td>\n",
       "    </tr>\n",
       "    <tr>\n",
       "      <th>5568</th>\n",
       "      <td>0</td>\n",
       "      <td>Will ü b going to esplanade fr home?</td>\n",
       "    </tr>\n",
       "    <tr>\n",
       "      <th>5569</th>\n",
       "      <td>0</td>\n",
       "      <td>Pity, * was in mood for that. So...any other s...</td>\n",
       "    </tr>\n",
       "    <tr>\n",
       "      <th>5570</th>\n",
       "      <td>0</td>\n",
       "      <td>The guy did some bitching but I acted like i'd...</td>\n",
       "    </tr>\n",
       "    <tr>\n",
       "      <th>5571</th>\n",
       "      <td>0</td>\n",
       "      <td>Rofl. Its true to its name</td>\n",
       "    </tr>\n",
       "  </tbody>\n",
       "</table>\n",
       "<p>5572 rows × 2 columns</p>\n",
       "</div>"
      ],
      "text/plain": [
       "      label                                            message\n",
       "0         0  Go until jurong point, crazy.. Available only ...\n",
       "1         0                      Ok lar... Joking wif u oni...\n",
       "2         1  Free entry in 2 a wkly comp to win FA Cup fina...\n",
       "3         0  U dun say so early hor... U c already then say...\n",
       "4         0  Nah I don't think he goes to usf, he lives aro...\n",
       "...     ...                                                ...\n",
       "5567      1  This is the 2nd time we have tried 2 contact u...\n",
       "5568      0               Will ü b going to esplanade fr home?\n",
       "5569      0  Pity, * was in mood for that. So...any other s...\n",
       "5570      0  The guy did some bitching but I acted like i'd...\n",
       "5571      0                         Rofl. Its true to its name\n",
       "\n",
       "[5572 rows x 2 columns]"
      ]
     },
     "execution_count": 8,
     "metadata": {},
     "output_type": "execute_result"
    }
   ],
   "source": [
    "df"
   ]
  },
  {
   "cell_type": "code",
   "execution_count": 9,
   "id": "6131d0a5",
   "metadata": {},
   "outputs": [],
   "source": [
    "df.drop_duplicates(inplace = True)"
   ]
  },
  {
   "cell_type": "code",
   "execution_count": 10,
   "id": "6bd4eb6b",
   "metadata": {},
   "outputs": [
    {
     "data": {
      "text/html": [
       "<div>\n",
       "<style scoped>\n",
       "    .dataframe tbody tr th:only-of-type {\n",
       "        vertical-align: middle;\n",
       "    }\n",
       "\n",
       "    .dataframe tbody tr th {\n",
       "        vertical-align: top;\n",
       "    }\n",
       "\n",
       "    .dataframe thead th {\n",
       "        text-align: right;\n",
       "    }\n",
       "</style>\n",
       "<table border=\"1\" class=\"dataframe\">\n",
       "  <thead>\n",
       "    <tr style=\"text-align: right;\">\n",
       "      <th></th>\n",
       "      <th>label</th>\n",
       "      <th>message</th>\n",
       "    </tr>\n",
       "  </thead>\n",
       "  <tbody>\n",
       "    <tr>\n",
       "      <th>0</th>\n",
       "      <td>0</td>\n",
       "      <td>Go until jurong point, crazy.. Available only ...</td>\n",
       "    </tr>\n",
       "    <tr>\n",
       "      <th>1</th>\n",
       "      <td>0</td>\n",
       "      <td>Ok lar... Joking wif u oni...</td>\n",
       "    </tr>\n",
       "    <tr>\n",
       "      <th>2</th>\n",
       "      <td>1</td>\n",
       "      <td>Free entry in 2 a wkly comp to win FA Cup fina...</td>\n",
       "    </tr>\n",
       "    <tr>\n",
       "      <th>3</th>\n",
       "      <td>0</td>\n",
       "      <td>U dun say so early hor... U c already then say...</td>\n",
       "    </tr>\n",
       "    <tr>\n",
       "      <th>4</th>\n",
       "      <td>0</td>\n",
       "      <td>Nah I don't think he goes to usf, he lives aro...</td>\n",
       "    </tr>\n",
       "    <tr>\n",
       "      <th>...</th>\n",
       "      <td>...</td>\n",
       "      <td>...</td>\n",
       "    </tr>\n",
       "    <tr>\n",
       "      <th>5567</th>\n",
       "      <td>1</td>\n",
       "      <td>This is the 2nd time we have tried 2 contact u...</td>\n",
       "    </tr>\n",
       "    <tr>\n",
       "      <th>5568</th>\n",
       "      <td>0</td>\n",
       "      <td>Will ü b going to esplanade fr home?</td>\n",
       "    </tr>\n",
       "    <tr>\n",
       "      <th>5569</th>\n",
       "      <td>0</td>\n",
       "      <td>Pity, * was in mood for that. So...any other s...</td>\n",
       "    </tr>\n",
       "    <tr>\n",
       "      <th>5570</th>\n",
       "      <td>0</td>\n",
       "      <td>The guy did some bitching but I acted like i'd...</td>\n",
       "    </tr>\n",
       "    <tr>\n",
       "      <th>5571</th>\n",
       "      <td>0</td>\n",
       "      <td>Rofl. Its true to its name</td>\n",
       "    </tr>\n",
       "  </tbody>\n",
       "</table>\n",
       "<p>5169 rows × 2 columns</p>\n",
       "</div>"
      ],
      "text/plain": [
       "      label                                            message\n",
       "0         0  Go until jurong point, crazy.. Available only ...\n",
       "1         0                      Ok lar... Joking wif u oni...\n",
       "2         1  Free entry in 2 a wkly comp to win FA Cup fina...\n",
       "3         0  U dun say so early hor... U c already then say...\n",
       "4         0  Nah I don't think he goes to usf, he lives aro...\n",
       "...     ...                                                ...\n",
       "5567      1  This is the 2nd time we have tried 2 contact u...\n",
       "5568      0               Will ü b going to esplanade fr home?\n",
       "5569      0  Pity, * was in mood for that. So...any other s...\n",
       "5570      0  The guy did some bitching but I acted like i'd...\n",
       "5571      0                         Rofl. Its true to its name\n",
       "\n",
       "[5169 rows x 2 columns]"
      ]
     },
     "execution_count": 10,
     "metadata": {},
     "output_type": "execute_result"
    }
   ],
   "source": [
    "df"
   ]
  },
  {
   "cell_type": "code",
   "execution_count": 11,
   "id": "71826a3d",
   "metadata": {},
   "outputs": [],
   "source": [
    "# Importing essential libraries for visualization\n",
    "import matplotlib.pyplot as plt\n",
    "import seaborn as sns\n"
   ]
  },
  {
   "cell_type": "code",
   "execution_count": 12,
   "id": "f923a14e",
   "metadata": {},
   "outputs": [
    {
     "data": {
      "image/png": "[encoded data removed]",
      "text/plain": [
       "<Figure size 576x576 with 1 Axes>"
      ]
     },
     "metadata": {
      "needs_background": "light"
     },
     "output_type": "display_data"
    }
   ],
   "source": [
    "plt.figure(figsize=(8,8))\n",
    "sns.countplot(x='label', data=df, hue='label')\n",
    "plt.title('Countplot for Spam vs. Ham')\n",
    "plt.xlabel('Is SMS Spam?')\n",
    "plt.ylabel('Count')\n",
    "plt.show()"
   ]
  },
  {
   "cell_type": "markdown",
   "id": "3ed9fa53",
   "metadata": {},
   "source": [
    "###  *Insight:* From the above countplot, it is evident that the dataset is **imbalanced**."
   ]
  },
  {
   "cell_type": "markdown",
   "id": "749783fc",
   "metadata": {},
   "source": [
    "## **Feature Engineering**\n",
    "*   Handling imbalanced dataset using Oversampling\n",
    "*   Creating new features e.g. word_count, contains_currency_symbol, contains_numbers, etc.\n"
   ]
  },
  {
   "cell_type": "code",
   "execution_count": 13,
   "id": "151b5a87",
   "metadata": {},
   "outputs": [
    {
     "name": "stdout",
     "output_type": "stream",
     "text": [
      "Number of Spam records: 653\n",
      "Number of Ham records: 4516\n"
     ]
    }
   ],
   "source": [
    "# Handling imbalanced dataset using Oversampling\n",
    "spam = df[df['label']==1]\n",
    "ham =  df[df['label']==0]\n",
    "print('Number of Spam records: {}'.format(spam.shape[0]))\n",
    "print('Number of Ham records: {}'.format(ham.shape[0]))"
   ]
  },
  {
   "cell_type": "code",
   "execution_count": 14,
   "id": "a41815ad",
   "metadata": {},
   "outputs": [],
   "source": [
    "count = int(ham.shape[0]-spam.shape[0])\n",
    "\n",
    "for i in range(0, count):\n",
    "    record = pd.DataFrame(spam.sample(n=1))\n",
    "    df = pd.concat([df, record])\n"
   ]
  },
  {
   "cell_type": "code",
   "execution_count": 15,
   "id": "5ad9c13f",
   "metadata": {},
   "outputs": [
    {
     "data": {
      "text/html": [
       "<div>\n",
       "<style scoped>\n",
       "    .dataframe tbody tr th:only-of-type {\n",
       "        vertical-align: middle;\n",
       "    }\n",
       "\n",
       "    .dataframe tbody tr th {\n",
       "        vertical-align: top;\n",
       "    }\n",
       "\n",
       "    .dataframe thead th {\n",
       "        text-align: right;\n",
       "    }\n",
       "</style>\n",
       "<table border=\"1\" class=\"dataframe\">\n",
       "  <thead>\n",
       "    <tr style=\"text-align: right;\">\n",
       "      <th></th>\n",
       "      <th>label</th>\n",
       "      <th>message</th>\n",
       "    </tr>\n",
       "  </thead>\n",
       "  <tbody>\n",
       "    <tr>\n",
       "      <th>0</th>\n",
       "      <td>0</td>\n",
       "      <td>Go until jurong point, crazy.. Available only ...</td>\n",
       "    </tr>\n",
       "    <tr>\n",
       "      <th>1</th>\n",
       "      <td>0</td>\n",
       "      <td>Ok lar... Joking wif u oni...</td>\n",
       "    </tr>\n",
       "    <tr>\n",
       "      <th>2</th>\n",
       "      <td>1</td>\n",
       "      <td>Free entry in 2 a wkly comp to win FA Cup fina...</td>\n",
       "    </tr>\n",
       "    <tr>\n",
       "      <th>3</th>\n",
       "      <td>0</td>\n",
       "      <td>U dun say so early hor... U c already then say...</td>\n",
       "    </tr>\n",
       "    <tr>\n",
       "      <th>4</th>\n",
       "      <td>0</td>\n",
       "      <td>Nah I don't think he goes to usf, he lives aro...</td>\n",
       "    </tr>\n",
       "    <tr>\n",
       "      <th>...</th>\n",
       "      <td>...</td>\n",
       "      <td>...</td>\n",
       "    </tr>\n",
       "    <tr>\n",
       "      <th>3864</th>\n",
       "      <td>1</td>\n",
       "      <td>Oh my god! I've found your number again! I'm s...</td>\n",
       "    </tr>\n",
       "    <tr>\n",
       "      <th>3856</th>\n",
       "      <td>1</td>\n",
       "      <td>Free msg: Single? Find a partner in your area!...</td>\n",
       "    </tr>\n",
       "    <tr>\n",
       "      <th>598</th>\n",
       "      <td>1</td>\n",
       "      <td>You have an important customer service announc...</td>\n",
       "    </tr>\n",
       "    <tr>\n",
       "      <th>2269</th>\n",
       "      <td>1</td>\n",
       "      <td>88066 FROM 88066 LOST 3POUND HELP</td>\n",
       "    </tr>\n",
       "    <tr>\n",
       "      <th>167</th>\n",
       "      <td>1</td>\n",
       "      <td>URGENT! We are trying to contact you. Last wee...</td>\n",
       "    </tr>\n",
       "  </tbody>\n",
       "</table>\n",
       "<p>9032 rows × 2 columns</p>\n",
       "</div>"
      ],
      "text/plain": [
       "      label                                            message\n",
       "0         0  Go until jurong point, crazy.. Available only ...\n",
       "1         0                      Ok lar... Joking wif u oni...\n",
       "2         1  Free entry in 2 a wkly comp to win FA Cup fina...\n",
       "3         0  U dun say so early hor... U c already then say...\n",
       "4         0  Nah I don't think he goes to usf, he lives aro...\n",
       "...     ...                                                ...\n",
       "3864      1  Oh my god! I've found your number again! I'm s...\n",
       "3856      1  Free msg: Single? Find a partner in your area!...\n",
       "598       1  You have an important customer service announc...\n",
       "2269      1                  88066 FROM 88066 LOST 3POUND HELP\n",
       "167       1  URGENT! We are trying to contact you. Last wee...\n",
       "\n",
       "[9032 rows x 2 columns]"
      ]
     },
     "execution_count": 15,
     "metadata": {},
     "output_type": "execute_result"
    }
   ],
   "source": [
    "df"
   ]
  },
  {
   "cell_type": "code",
   "execution_count": 16,
   "id": "634dd625",
   "metadata": {},
   "outputs": [
    {
     "data": {
      "text/plain": [
       "label\n",
       "0    4516\n",
       "1    4516\n",
       "Name: count, dtype: int64"
      ]
     },
     "execution_count": 16,
     "metadata": {},
     "output_type": "execute_result"
    }
   ],
   "source": [
    "df['label'].value_counts()"
   ]
  },
  {
   "cell_type": "code",
   "execution_count": 17,
   "id": "98b050b1",
   "metadata": {},
   "outputs": [],
   "source": [
    "#Creating new feature 'word_count'\n",
    "df['word_count'] = df['message'].apply(lambda x: len(x.split()))"
   ]
  },
  {
   "cell_type": "code",
   "execution_count": 18,
   "id": "41e97463",
   "metadata": {},
   "outputs": [
    {
     "data": {
      "text/html": [
       "<div>\n",
       "<style scoped>\n",
       "    .dataframe tbody tr th:only-of-type {\n",
       "        vertical-align: middle;\n",
       "    }\n",
       "\n",
       "    .dataframe tbody tr th {\n",
       "        vertical-align: top;\n",
       "    }\n",
       "\n",
       "    .dataframe thead th {\n",
       "        text-align: right;\n",
       "    }\n",
       "</style>\n",
       "<table border=\"1\" class=\"dataframe\">\n",
       "  <thead>\n",
       "    <tr style=\"text-align: right;\">\n",
       "      <th></th>\n",
       "      <th>label</th>\n",
       "      <th>message</th>\n",
       "      <th>word_count</th>\n",
       "    </tr>\n",
       "  </thead>\n",
       "  <tbody>\n",
       "    <tr>\n",
       "      <th>0</th>\n",
       "      <td>0</td>\n",
       "      <td>Go until jurong point, crazy.. Available only ...</td>\n",
       "      <td>20</td>\n",
       "    </tr>\n",
       "    <tr>\n",
       "      <th>1</th>\n",
       "      <td>0</td>\n",
       "      <td>Ok lar... Joking wif u oni...</td>\n",
       "      <td>6</td>\n",
       "    </tr>\n",
       "    <tr>\n",
       "      <th>2</th>\n",
       "      <td>1</td>\n",
       "      <td>Free entry in 2 a wkly comp to win FA Cup fina...</td>\n",
       "      <td>28</td>\n",
       "    </tr>\n",
       "    <tr>\n",
       "      <th>3</th>\n",
       "      <td>0</td>\n",
       "      <td>U dun say so early hor... U c already then say...</td>\n",
       "      <td>11</td>\n",
       "    </tr>\n",
       "    <tr>\n",
       "      <th>4</th>\n",
       "      <td>0</td>\n",
       "      <td>Nah I don't think he goes to usf, he lives aro...</td>\n",
       "      <td>13</td>\n",
       "    </tr>\n",
       "  </tbody>\n",
       "</table>\n",
       "</div>"
      ],
      "text/plain": [
       "   label                                            message  word_count\n",
       "0      0  Go until jurong point, crazy.. Available only ...          20\n",
       "1      0                      Ok lar... Joking wif u oni...           6\n",
       "2      1  Free entry in 2 a wkly comp to win FA Cup fina...          28\n",
       "3      0  U dun say so early hor... U c already then say...          11\n",
       "4      0  Nah I don't think he goes to usf, he lives aro...          13"
      ]
     },
     "execution_count": 18,
     "metadata": {},
     "output_type": "execute_result"
    }
   ],
   "source": [
    "df.head()"
   ]
  },
  {
   "cell_type": "code",
   "execution_count": 19,
   "id": "861ce9cc",
   "metadata": {},
   "outputs": [
    {
     "data": {
      "image/png": "[encoded data removed]",
      "text/plain": [
       "<Figure size 864x576 with 1 Axes>"
      ]
     },
     "metadata": {
      "needs_background": "light"
     },
     "output_type": "display_data"
    }
   ],
   "source": [
    "plt.figure(figsize=(12, 8))\n",
    "df1 = df[df['label']==0]\n",
    "plt.hist(df1['word_count'], bins=50, label='Ham')\n",
    "plt.title('Word count distribution for Ham messages')\n",
    "plt.show()"
   ]
  },
  {
   "cell_type": "code",
   "execution_count": 20,
   "id": "55c7a5cb",
   "metadata": {},
   "outputs": [
    {
     "data": {
      "image/png": "[encoded data removed]",
      "text/plain": [
       "<Figure size 432x288 with 1 Axes>"
      ]
     },
     "metadata": {
      "needs_background": "light"
     },
     "output_type": "display_data"
    }
   ],
   "source": [
    "df2 = df[df['label']==1]\n",
    "plt.hist(df2['word_count'], bins=25, label='Spam')\n",
    "plt.title('Word count distribution for Spam messages')\n",
    "plt.show()\n"
   ]
  },
  {
   "cell_type": "markdown",
   "id": "6c479a59",
   "metadata": {},
   "source": [
    "_**Insight:** **Spam messages** word_count fall in the range of **15-30 words**, whereas majority of the **Ham messages** fall in the range of **below 25 words**._"
   ]
  },
  {
   "cell_type": "code",
   "execution_count": 21,
   "id": "7ee496d3",
   "metadata": {},
   "outputs": [],
   "source": [
    "# Creating feature 'contains_currency_symbol'\n",
    "def currency(x):\n",
    "    currency_symbols = ['€', '$', '¥', '£', '₹']\n",
    "    for i in currency_symbols:\n",
    "        if i in x:\n",
    "            return 1\n",
    "    return 0\n",
    "\n",
    "df['contains_currency_symbol'] = df['message'].apply(currency)\n"
   ]
  },
  {
   "cell_type": "code",
   "execution_count": 22,
   "id": "afa40d66",
   "metadata": {},
   "outputs": [
    {
     "data": {
      "text/html": [
       "<div>\n",
       "<style scoped>\n",
       "    .dataframe tbody tr th:only-of-type {\n",
       "        vertical-align: middle;\n",
       "    }\n",
       "\n",
       "    .dataframe tbody tr th {\n",
       "        vertical-align: top;\n",
       "    }\n",
       "\n",
       "    .dataframe thead th {\n",
       "        text-align: right;\n",
       "    }\n",
       "</style>\n",
       "<table border=\"1\" class=\"dataframe\">\n",
       "  <thead>\n",
       "    <tr style=\"text-align: right;\">\n",
       "      <th></th>\n",
       "      <th>label</th>\n",
       "      <th>message</th>\n",
       "      <th>word_count</th>\n",
       "      <th>contains_currency_symbol</th>\n",
       "    </tr>\n",
       "  </thead>\n",
       "  <tbody>\n",
       "    <tr>\n",
       "      <th>0</th>\n",
       "      <td>0</td>\n",
       "      <td>Go until jurong point, crazy.. Available only ...</td>\n",
       "      <td>20</td>\n",
       "      <td>0</td>\n",
       "    </tr>\n",
       "    <tr>\n",
       "      <th>1</th>\n",
       "      <td>0</td>\n",
       "      <td>Ok lar... Joking wif u oni...</td>\n",
       "      <td>6</td>\n",
       "      <td>0</td>\n",
       "    </tr>\n",
       "    <tr>\n",
       "      <th>2</th>\n",
       "      <td>1</td>\n",
       "      <td>Free entry in 2 a wkly comp to win FA Cup fina...</td>\n",
       "      <td>28</td>\n",
       "      <td>0</td>\n",
       "    </tr>\n",
       "    <tr>\n",
       "      <th>3</th>\n",
       "      <td>0</td>\n",
       "      <td>U dun say so early hor... U c already then say...</td>\n",
       "      <td>11</td>\n",
       "      <td>0</td>\n",
       "    </tr>\n",
       "    <tr>\n",
       "      <th>4</th>\n",
       "      <td>0</td>\n",
       "      <td>Nah I don't think he goes to usf, he lives aro...</td>\n",
       "      <td>13</td>\n",
       "      <td>0</td>\n",
       "    </tr>\n",
       "    <tr>\n",
       "      <th>...</th>\n",
       "      <td>...</td>\n",
       "      <td>...</td>\n",
       "      <td>...</td>\n",
       "      <td>...</td>\n",
       "    </tr>\n",
       "    <tr>\n",
       "      <th>3864</th>\n",
       "      <td>1</td>\n",
       "      <td>Oh my god! I've found your number again! I'm s...</td>\n",
       "      <td>22</td>\n",
       "      <td>1</td>\n",
       "    </tr>\n",
       "    <tr>\n",
       "      <th>3856</th>\n",
       "      <td>1</td>\n",
       "      <td>Free msg: Single? Find a partner in your area!...</td>\n",
       "      <td>26</td>\n",
       "      <td>1</td>\n",
       "    </tr>\n",
       "    <tr>\n",
       "      <th>598</th>\n",
       "      <td>1</td>\n",
       "      <td>You have an important customer service announc...</td>\n",
       "      <td>13</td>\n",
       "      <td>0</td>\n",
       "    </tr>\n",
       "    <tr>\n",
       "      <th>2269</th>\n",
       "      <td>1</td>\n",
       "      <td>88066 FROM 88066 LOST 3POUND HELP</td>\n",
       "      <td>6</td>\n",
       "      <td>0</td>\n",
       "    </tr>\n",
       "    <tr>\n",
       "      <th>167</th>\n",
       "      <td>1</td>\n",
       "      <td>URGENT! We are trying to contact you. Last wee...</td>\n",
       "      <td>27</td>\n",
       "      <td>1</td>\n",
       "    </tr>\n",
       "  </tbody>\n",
       "</table>\n",
       "<p>9032 rows × 4 columns</p>\n",
       "</div>"
      ],
      "text/plain": [
       "      label                                            message  word_count  \\\n",
       "0         0  Go until jurong point, crazy.. Available only ...          20   \n",
       "1         0                      Ok lar... Joking wif u oni...           6   \n",
       "2         1  Free entry in 2 a wkly comp to win FA Cup fina...          28   \n",
       "3         0  U dun say so early hor... U c already then say...          11   \n",
       "4         0  Nah I don't think he goes to usf, he lives aro...          13   \n",
       "...     ...                                                ...         ...   \n",
       "3864      1  Oh my god! I've found your number again! I'm s...          22   \n",
       "3856      1  Free msg: Single? Find a partner in your area!...          26   \n",
       "598       1  You have an important customer service announc...          13   \n",
       "2269      1                  88066 FROM 88066 LOST 3POUND HELP           6   \n",
       "167       1  URGENT! We are trying to contact you. Last wee...          27   \n",
       "\n",
       "      contains_currency_symbol  \n",
       "0                            0  \n",
       "1                            0  \n",
       "2                            0  \n",
       "3                            0  \n",
       "4                            0  \n",
       "...                        ...  \n",
       "3864                         1  \n",
       "3856                         1  \n",
       "598                          0  \n",
       "2269                         0  \n",
       "167                          1  \n",
       "\n",
       "[9032 rows x 4 columns]"
      ]
     },
     "execution_count": 22,
     "metadata": {},
     "output_type": "execute_result"
    }
   ],
   "source": [
    "df"
   ]
  },
  {
   "cell_type": "code",
   "execution_count": 23,
   "id": "9c1b8244",
   "metadata": {},
   "outputs": [
    {
     "data": {
      "image/png": "[encoded data removed]",
      "text/plain": [
       "<Figure size 576x576 with 1 Axes>"
      ]
     },
     "metadata": {
      "needs_background": "light"
     },
     "output_type": "display_data"
    }
   ],
   "source": [
    "# Countplot for contains_currency_symbol\n",
    "plt.figure(figsize=(8,8))\n",
    "sns.countplot(x='contains_currency_symbol', data=df, hue='label')\n",
    "plt.title('Countplot for contain_currency')\n",
    "plt.xlabel('Does SMS contain currency symbol?')\n",
    "plt.ylabel('Count')\n",
    "plt.legend(labels=['Ham', 'Spam'], loc=9)\n",
    "plt.show()"
   ]
  },
  {
   "cell_type": "markdown",
   "id": "66978005",
   "metadata": {},
   "source": [
    "_**Insight: Almost 1/3 of Spam messages contain currency symbols**, and currency symbols are **rarely used in Ham messages.**_"
   ]
  },
  {
   "cell_type": "code",
   "execution_count": 24,
   "id": "f4406472",
   "metadata": {},
   "outputs": [],
   "source": [
    "# Creating feature 'contains_number'\n",
    "def numbers(x):\n",
    "    for i in x:\n",
    "        if ord(i)>=48 and ord(i)<=57:\n",
    "            return 1\n",
    "    return 0\n",
    "\n",
    "df['contains_number'] = df['message'].apply(numbers)"
   ]
  },
  {
   "cell_type": "code",
   "execution_count": 25,
   "id": "719d79c3",
   "metadata": {},
   "outputs": [
    {
     "data": {
      "text/html": [
       "<div>\n",
       "<style scoped>\n",
       "    .dataframe tbody tr th:only-of-type {\n",
       "        vertical-align: middle;\n",
       "    }\n",
       "\n",
       "    .dataframe tbody tr th {\n",
       "        vertical-align: top;\n",
       "    }\n",
       "\n",
       "    .dataframe thead th {\n",
       "        text-align: right;\n",
       "    }\n",
       "</style>\n",
       "<table border=\"1\" class=\"dataframe\">\n",
       "  <thead>\n",
       "    <tr style=\"text-align: right;\">\n",
       "      <th></th>\n",
       "      <th>label</th>\n",
       "      <th>message</th>\n",
       "      <th>word_count</th>\n",
       "      <th>contains_currency_symbol</th>\n",
       "      <th>contains_number</th>\n",
       "    </tr>\n",
       "  </thead>\n",
       "  <tbody>\n",
       "    <tr>\n",
       "      <th>0</th>\n",
       "      <td>0</td>\n",
       "      <td>Go until jurong point, crazy.. Available only ...</td>\n",
       "      <td>20</td>\n",
       "      <td>0</td>\n",
       "      <td>0</td>\n",
       "    </tr>\n",
       "    <tr>\n",
       "      <th>1</th>\n",
       "      <td>0</td>\n",
       "      <td>Ok lar... Joking wif u oni...</td>\n",
       "      <td>6</td>\n",
       "      <td>0</td>\n",
       "      <td>0</td>\n",
       "    </tr>\n",
       "    <tr>\n",
       "      <th>2</th>\n",
       "      <td>1</td>\n",
       "      <td>Free entry in 2 a wkly comp to win FA Cup fina...</td>\n",
       "      <td>28</td>\n",
       "      <td>0</td>\n",
       "      <td>1</td>\n",
       "    </tr>\n",
       "    <tr>\n",
       "      <th>3</th>\n",
       "      <td>0</td>\n",
       "      <td>U dun say so early hor... U c already then say...</td>\n",
       "      <td>11</td>\n",
       "      <td>0</td>\n",
       "      <td>0</td>\n",
       "    </tr>\n",
       "    <tr>\n",
       "      <th>4</th>\n",
       "      <td>0</td>\n",
       "      <td>Nah I don't think he goes to usf, he lives aro...</td>\n",
       "      <td>13</td>\n",
       "      <td>0</td>\n",
       "      <td>0</td>\n",
       "    </tr>\n",
       "    <tr>\n",
       "      <th>...</th>\n",
       "      <td>...</td>\n",
       "      <td>...</td>\n",
       "      <td>...</td>\n",
       "      <td>...</td>\n",
       "      <td>...</td>\n",
       "    </tr>\n",
       "    <tr>\n",
       "      <th>3864</th>\n",
       "      <td>1</td>\n",
       "      <td>Oh my god! I've found your number again! I'm s...</td>\n",
       "      <td>22</td>\n",
       "      <td>1</td>\n",
       "      <td>1</td>\n",
       "    </tr>\n",
       "    <tr>\n",
       "      <th>3856</th>\n",
       "      <td>1</td>\n",
       "      <td>Free msg: Single? Find a partner in your area!...</td>\n",
       "      <td>26</td>\n",
       "      <td>1</td>\n",
       "      <td>1</td>\n",
       "    </tr>\n",
       "    <tr>\n",
       "      <th>598</th>\n",
       "      <td>1</td>\n",
       "      <td>You have an important customer service announc...</td>\n",
       "      <td>13</td>\n",
       "      <td>0</td>\n",
       "      <td>1</td>\n",
       "    </tr>\n",
       "    <tr>\n",
       "      <th>2269</th>\n",
       "      <td>1</td>\n",
       "      <td>88066 FROM 88066 LOST 3POUND HELP</td>\n",
       "      <td>6</td>\n",
       "      <td>0</td>\n",
       "      <td>1</td>\n",
       "    </tr>\n",
       "    <tr>\n",
       "      <th>167</th>\n",
       "      <td>1</td>\n",
       "      <td>URGENT! We are trying to contact you. Last wee...</td>\n",
       "      <td>27</td>\n",
       "      <td>1</td>\n",
       "      <td>1</td>\n",
       "    </tr>\n",
       "  </tbody>\n",
       "</table>\n",
       "<p>9032 rows × 5 columns</p>\n",
       "</div>"
      ],
      "text/plain": [
       "      label                                            message  word_count  \\\n",
       "0         0  Go until jurong point, crazy.. Available only ...          20   \n",
       "1         0                      Ok lar... Joking wif u oni...           6   \n",
       "2         1  Free entry in 2 a wkly comp to win FA Cup fina...          28   \n",
       "3         0  U dun say so early hor... U c already then say...          11   \n",
       "4         0  Nah I don't think he goes to usf, he lives aro...          13   \n",
       "...     ...                                                ...         ...   \n",
       "3864      1  Oh my god! I've found your number again! I'm s...          22   \n",
       "3856      1  Free msg: Single? Find a partner in your area!...          26   \n",
       "598       1  You have an important customer service announc...          13   \n",
       "2269      1                  88066 FROM 88066 LOST 3POUND HELP           6   \n",
       "167       1  URGENT! We are trying to contact you. Last wee...          27   \n",
       "\n",
       "      contains_currency_symbol  contains_number  \n",
       "0                            0                0  \n",
       "1                            0                0  \n",
       "2                            0                1  \n",
       "3                            0                0  \n",
       "4                            0                0  \n",
       "...                        ...              ...  \n",
       "3864                         1                1  \n",
       "3856                         1                1  \n",
       "598                          0                1  \n",
       "2269                         0                1  \n",
       "167                          1                1  \n",
       "\n",
       "[9032 rows x 5 columns]"
      ]
     },
     "execution_count": 25,
     "metadata": {},
     "output_type": "execute_result"
    }
   ],
   "source": [
    "df"
   ]
  },
  {
   "cell_type": "code",
   "execution_count": 26,
   "id": "ffc7bb6c",
   "metadata": {},
   "outputs": [
    {
     "data": {
      "image/png": "[encoded data removed]",
      "text/plain": [
       "<Figure size 576x576 with 1 Axes>"
      ]
     },
     "metadata": {
      "needs_background": "light"
     },
     "output_type": "display_data"
    }
   ],
   "source": [
    "# Countplot for contains_number\n",
    "plt.figure(figsize=(8,8))\n",
    "sns.countplot(x='contains_number', data=df, hue='label')\n",
    "plt.title('Countplot for contain_numbers')\n",
    "plt.xlabel('Does SMS contain number?')\n",
    "plt.ylabel('Count')\n",
    "plt.legend(labels=['Ham', 'Spam'], loc=9)\n",
    "plt.show()"
   ]
  },
  {
   "cell_type": "markdown",
   "id": "179cdc1f",
   "metadata": {},
   "source": [
    "_**Insight:** It is evident that **most of the Spam messages contain numbers,** and **majority of the Ham messages donot contain numbers.**_"
   ]
  },
  {
   "cell_type": "markdown",
   "id": "31974d44",
   "metadata": {},
   "source": [
    "## Text Preprocessing\n",
    "* Removing special character and numbers using regular expression\n",
    "* Converting the entire sms into lower case\n",
    "* Tokenizing the sms by words\n",
    "* Removing the stop words\n",
    "* Lemmatizing the words\n",
    "* Joining the lemmatized words\n",
    "* Building a corpus of messages"
   ]
  },
  {
   "cell_type": "code",
   "execution_count": 27,
   "id": "d1e73128",
   "metadata": {},
   "outputs": [],
   "source": [
    "# Importing essential libraries for performing NLP\n",
    "import nltk\n",
    "import re\n",
    "from nltk.corpus import stopwords\n",
    "from nltk.stem import WordNetLemmatizer"
   ]
  },
  {
   "cell_type": "code",
   "execution_count": 28,
   "id": "6e9e618d",
   "metadata": {},
   "outputs": [],
   "source": [
    "# Cleaning the messages\n",
    "corpus = []\n",
    "wnl = WordNetLemmatizer()\n",
    "\n",
    "for sms_string in list(df.message):\n",
    "\n",
    "  # Cleaning special character from the sms\n",
    "  message = re.sub(pattern='[^a-zA-Z]', repl=' ', string=sms_string)\n",
    "\n",
    "  # Converting the entire sms into lower case\n",
    "  message = message.lower()\n",
    "\n",
    "  # Tokenizing the sms by words\n",
    "  words = message.split()\n",
    "\n",
    "  # Removing the stop words\n",
    "  filtered_words = [word for word in words if word not in set(stopwords.words('english'))]\n",
    "\n",
    "  # Lemmatizing the words\n",
    "  lemmatized_words = [wnl.lemmatize(word) for word in filtered_words]\n",
    "\n",
    "  # Joining the lemmatized words\n",
    "  message = ' '.join(lemmatized_words)\n",
    "\n",
    "  # Building a corpus of messages\n",
    "  corpus.append(message)"
   ]
  },
  {
   "cell_type": "code",
   "execution_count": 29,
   "id": "13d3f1c3",
   "metadata": {},
   "outputs": [
    {
     "data": {
      "text/plain": [
       "['go jurong point crazy available bugis n great world la e buffet cine got amore wat',\n",
       " 'ok lar joking wif u oni',\n",
       " 'free entry wkly comp win fa cup final tkts st may text fa receive entry question std txt rate c apply',\n",
       " 'u dun say early hor u c already say',\n",
       " 'nah think go usf life around though']"
      ]
     },
     "execution_count": 29,
     "metadata": {},
     "output_type": "execute_result"
    }
   ],
   "source": [
    "corpus[0:5]"
   ]
  },
  {
   "cell_type": "code",
   "execution_count": 30,
   "id": "fc1650cd",
   "metadata": {},
   "outputs": [],
   "source": [
    "# Creating the Bag of Words model\n",
    "from sklearn.feature_extraction.text import TfidfVectorizer\n",
    "tfidf = TfidfVectorizer(max_features=500)\n",
    "vectors = tfidf.fit_transform(corpus).toarray()\n",
    "feature_names = tfidf.get_feature_names()\n",
    "\n",
    "# Extracting independent and dependent variables from the dataset\n",
    "X = pd.DataFrame(vectors, columns=feature_names)\n",
    "y = df['label']"
   ]
  },
  {
   "cell_type": "markdown",
   "id": "11589565",
   "metadata": {},
   "source": [
    "## Model Building & Evaluation\n",
    "_**Metric: F1-Score**_\n",
    "\n",
    "* Multiomail Naive Bayes\n",
    "* Decision Tree\n",
    "* **Random Forest (Ensemble)**\n",
    "* Voting (Multinomial Naive Bayes + Decision Tree)"
   ]
  },
  {
   "cell_type": "code",
   "execution_count": 31,
   "id": "0b4fb8b4",
   "metadata": {},
   "outputs": [],
   "source": [
    "from sklearn.model_selection import cross_val_score\n",
    "from sklearn.metrics import classification_report, confusion_matrix\n",
    "from sklearn.model_selection import train_test_split"
   ]
  },
  {
   "cell_type": "code",
   "execution_count": 32,
   "id": "3a7a5926",
   "metadata": {},
   "outputs": [],
   "source": [
    "X_train, X_test, y_train, y_test = train_test_split(X, y, test_size=0.2, random_state=42)"
   ]
  },
  {
   "cell_type": "code",
   "execution_count": 33,
   "id": "cd16c443",
   "metadata": {},
   "outputs": [
    {
     "name": "stdout",
     "output_type": "stream",
     "text": [
      "--- Average F1-Score for MNB model: 0.938 ---\n",
      "Standard Deviation: 0.013\n"
     ]
    }
   ],
   "source": [
    "# Fitting Naive Bayes to the Training set\n",
    "from sklearn.naive_bayes import MultinomialNB\n",
    "mnb = MultinomialNB()\n",
    "cv = cross_val_score(mnb, X, y, scoring='f1', cv=10)\n",
    "print('--- Average F1-Score for MNB model: {} ---'.format(round(cv.mean(), 3)))\n",
    "print('Standard Deviation: {}'.format(round(cv.std(), 3)))"
   ]
  },
  {
   "cell_type": "code",
   "execution_count": 34,
   "id": "44a2e4e9",
   "metadata": {},
   "outputs": [
    {
     "name": "stdout",
     "output_type": "stream",
     "text": [
      "--- Classification report for MNB model ---\n",
      "              precision    recall  f1-score   support\n",
      "\n",
      "           0       0.96      0.94      0.95       899\n",
      "           1       0.94      0.96      0.95       908\n",
      "\n",
      "    accuracy                           0.95      1807\n",
      "   macro avg       0.95      0.95      0.95      1807\n",
      "weighted avg       0.95      0.95      0.95      1807\n",
      "\n"
     ]
    }
   ],
   "source": [
    "# Classification report for MNB model\n",
    "mnb = MultinomialNB()\n",
    "mnb.fit(X_train, y_train)\n",
    "y_pred = mnb.predict(X_test)\n",
    "\n",
    "print('--- Classification report for MNB model ---')\n",
    "print(classification_report(y_test, y_pred))\n"
   ]
  },
  {
   "cell_type": "code",
   "execution_count": 35,
   "id": "990369ca",
   "metadata": {},
   "outputs": [
    {
     "name": "stdout",
     "output_type": "stream",
     "text": [
      "--- Average F1-Score for Decision Tree model: 0.977 ---\n",
      "Standard Deviation: 0.005\n"
     ]
    }
   ],
   "source": [
    "# Fitting Decision Tree to the Training set\n",
    "from sklearn.tree import DecisionTreeClassifier\n",
    "dt = DecisionTreeClassifier()\n",
    "cv = cross_val_score(dt, X, y, scoring='f1', cv=10)\n",
    "print('--- Average F1-Score for Decision Tree model: {} ---'.format(round(cv.mean(), 3)))\n",
    "print('Standard Deviation: {}'.format(round(cv.std(), 3)))"
   ]
  },
  {
   "cell_type": "code",
   "execution_count": 36,
   "id": "495264b8",
   "metadata": {},
   "outputs": [
    {
     "name": "stdout",
     "output_type": "stream",
     "text": [
      "--- Classification report for Decision Tree model ---\n",
      "              precision    recall  f1-score   support\n",
      "\n",
      "           0       0.99      0.96      0.97       899\n",
      "           1       0.96      0.99      0.98       908\n",
      "\n",
      "    accuracy                           0.98      1807\n",
      "   macro avg       0.98      0.98      0.98      1807\n",
      "weighted avg       0.98      0.98      0.98      1807\n",
      "\n"
     ]
    }
   ],
   "source": [
    "# Classification report for Decision Tree model\n",
    "dt = DecisionTreeClassifier()\n",
    "dt.fit(X_train, y_train)\n",
    "y_pred = dt.predict(X_test)\n",
    "\n",
    "print('--- Classification report for Decision Tree model ---')\n",
    "print(classification_report(y_test, y_pred))"
   ]
  },
  {
   "cell_type": "code",
   "execution_count": 37,
   "id": "e2dc6836",
   "metadata": {},
   "outputs": [
    {
     "name": "stdout",
     "output_type": "stream",
     "text": [
      "--- Average F1-Score for Random Forest model: 0.992 ---\n",
      "Standard Deviation: 0.003\n"
     ]
    }
   ],
   "source": [
    "# Fitting Random Forest to the Training set\n",
    "from sklearn.ensemble import RandomForestClassifier\n",
    "rf = RandomForestClassifier(n_estimators=10)\n",
    "cv = cross_val_score(rf, X, y, scoring='f1', cv=10)\n",
    "print('--- Average F1-Score for Random Forest model: {} ---'.format(round(cv.mean(), 3)))\n",
    "print('Standard Deviation: {}'.format(round(cv.std(), 3)))"
   ]
  },
  {
   "cell_type": "code",
   "execution_count": 38,
   "id": "da95ef9a",
   "metadata": {},
   "outputs": [
    {
     "name": "stdout",
     "output_type": "stream",
     "text": [
      "--- Classification report for Random Forest model ---\n",
      "              precision    recall  f1-score   support\n",
      "\n",
      "           0       0.99      0.99      0.99       899\n",
      "           1       0.99      0.99      0.99       908\n",
      "\n",
      "    accuracy                           0.99      1807\n",
      "   macro avg       0.99      0.99      0.99      1807\n",
      "weighted avg       0.99      0.99      0.99      1807\n",
      "\n"
     ]
    }
   ],
   "source": [
    "# Classification report for Random Forest model\n",
    "rf = RandomForestClassifier(n_estimators=20)\n",
    "rf.fit(X_train, y_train)\n",
    "y_pred = rf.predict(X_test)\n",
    "\n",
    "print('--- Classification report for Random Forest model ---')\n",
    "print(classification_report(y_test, y_pred))"
   ]
  },
  {
   "cell_type": "markdown",
   "id": "b975425d",
   "metadata": {},
   "source": [
    "### _**Note:** Decision Tree & MNB algorithms are selected and fed to Voting algorithm to increase the F1-Score!_"
   ]
  },
  {
   "cell_type": "code",
   "execution_count": 39,
   "id": "e0987f7c",
   "metadata": {},
   "outputs": [
    {
     "name": "stdout",
     "output_type": "stream",
     "text": [
      "--- Average F1-Score for VotingClassifier model: 0.977 ---\n",
      "Standard Deviation: 0.004\n"
     ]
    }
   ],
   "source": [
    "# Fitting Decision Tree and MNB to VotingClassifier\n",
    "from sklearn.ensemble import VotingClassifier\n",
    "vc = VotingClassifier([('decision_tree', dt), ('m_naive_bayes', mnb)], weights=[2,1])\n",
    "cv = cross_val_score(vc, X, y, cv=10, scoring='f1')\n",
    "\n",
    "print('--- Average F1-Score for VotingClassifier model: {} ---'.format(round(cv.mean(), 3)))\n",
    "print('Standard Deviation: {}'.format(round(cv.std(), 3)))"
   ]
  },
  {
   "cell_type": "markdown",
   "id": "e7182749",
   "metadata": {},
   "source": [
    "### Note: Voting classifier did not out-perform Random Forest algorithm, hence **Random Forest algorithm** is selected for predicting the results of this problem statement.\n"
   ]
  },
  {
   "cell_type": "markdown",
   "id": "c43ee06b",
   "metadata": {},
   "source": [
    "## Making Predictions"
   ]
  },
  {
   "cell_type": "code",
   "execution_count": 40,
   "id": "8ca75809",
   "metadata": {},
   "outputs": [],
   "source": [
    "def predict_spam(sample_message):\n",
    "    sample_message = re.sub(pattern='[^a-zA-Z]',repl=' ', string = sample_message)\n",
    "    sample_message = sample_message.lower()\n",
    "    sample_message_words = sample_message.split()\n",
    "    sample_message_words = [word for word in sample_message_words if not word in set(stopwords.words('english'))]\n",
    "    final_message = [wnl.lemmatize(word) for word in sample_message_words]\n",
    "    final_message = ' '.join(final_message)\n",
    "\n",
    "    temp = tfidf.transform([final_message]).toarray()\n",
    "    return rf.predict(temp)"
   ]
  },
  {
   "cell_type": "code",
   "execution_count": 41,
   "id": "25b4ad5c",
   "metadata": {},
   "outputs": [
    {
     "name": "stdout",
     "output_type": "stream",
     "text": [
      "Gotcha! This is a SPAM message.\n"
     ]
    }
   ],
   "source": [
    "# Prediction 1\n",
    "sample_message = 'IMPORTANT - You could be entitled up to £3,160 in compensation from mis-sold PPI on a credit card or loan. Please reply PPI for info or STOP to opt out.'\n",
    "\n",
    "if predict_spam(sample_message):\n",
    "    print('Gotcha! This is a SPAM message.')\n",
    "else:\n",
    "    print('This is a HAM (normal) message.')"
   ]
  },
  {
   "cell_type": "code",
   "execution_count": 42,
   "id": "e40cb90c",
   "metadata": {},
   "outputs": [
    {
     "name": "stdout",
     "output_type": "stream",
     "text": [
      "This is a HAM (normal) message.\n"
     ]
    }
   ],
   "source": [
    "# Prediction 2\n",
    "sample_message = 'Hey Sam, How are you ?'\n",
    "\n",
    "if predict_spam(sample_message):\n",
    "    print('Gotcha! This is a SPAM message.')\n",
    "else:\n",
    "    print('This is a HAM (normal) message.')"
   ]
  },
  {
   "cell_type": "code",
   "execution_count": 43,
   "id": "27650192",
   "metadata": {},
   "outputs": [
    {
     "name": "stdout",
     "output_type": "stream",
     "text": [
      "Gotcha! This is a SPAM message.\n"
     ]
    }
   ],
   "source": [
    "# Prediction 3\n",
    "sample_message = 'Get 1000$ by clicking on the link given below https://abcxyz.com'\n",
    "\n",
    "if predict_spam(sample_message):\n",
    "    print('Gotcha! This is a SPAM message.')\n",
    "else:\n",
    "    print('This is a HAM (normal) message.')\n"
   ]
  },
  {
   "cell_type": "code",
   "execution_count": 44,
   "id": "65e5d75d",
   "metadata": {},
   "outputs": [
    {
     "name": "stdout",
     "output_type": "stream",
     "text": [
      "This is a HAM (normal) message.\n"
     ]
    }
   ],
   "source": [
    "# Prediction 4\n",
    "sample_message = 'Satish, please give me 1000$'\n",
    "\n",
    "if predict_spam(sample_message):\n",
    "    print('Gotcha! This is a SPAM message.')\n",
    "else:\n",
    "    print('This is a HAM (normal) message.')"
   ]
  },
  {
   "cell_type": "code",
   "execution_count": 45,
   "id": "890b1383",
   "metadata": {},
   "outputs": [
    {
     "name": "stdout",
     "output_type": "stream",
     "text": [
      "This is a HAM (normal) message.\n"
     ]
    }
   ],
   "source": [
    "# Prediction 5\n",
    "sample_message = 'Harsh, your google account is in danger, please protect using 2 way authentication'\n",
    "\n",
    "if predict_spam(sample_message):\n",
    "    print('Gotcha! This is a SPAM message.')\n",
    "else:\n",
    "    print('This is a HAM (normal) message.')"
   ]
  },
  {
   "cell_type": "code",
   "execution_count": null,
   "id": "603e30ff",
   "metadata": {},
   "outputs": [],
   "source": []
  }
 ],
 "metadata": {
  "kernelspec": {
   "display_name": "Python 3 (ipykernel)",
   "language": "python",
   "name": "python3"
  },
  "language_info": {
   "codemirror_mode": {
    "name": "ipython",
    "version": 3
   },
   "file_extension": ".py",
   "mimetype": "text/x-python",
   "name": "python",
   "nbconvert_exporter": "python",
   "pygments_lexer": "ipython3",
   "version": "3.9.12"
  }
 },
 "nbformat": 4,
 "nbformat_minor": 5
}
